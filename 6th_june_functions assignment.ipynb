{
 "cells": [
  {
   "cell_type": "markdown",
   "id": "847adbb7-db76-4977-981e-bb4bb638709c",
   "metadata": {},
   "source": [
    " Q1. Which keyword is used to create a function? Create a function to return a list of odd numbers in the\n",
    "range of 1 to 25."
   ]
  },
  {
   "cell_type": "code",
   "execution_count": 3,
   "id": "1dbda8fc-8a4a-447f-ad95-a5be9ad0ea5a",
   "metadata": {},
   "outputs": [],
   "source": [
    "#Answer\n",
    "## The keyword used to create a function  is def.\n",
    "\n",
    "def odd_numbers():\n",
    "    odd_numbers=[]\n",
    "    for i in range (1,26):\n",
    "        if i % 2!=0:\n",
    "            odd_numbers.append(i)\n",
    "    return odd_numbers    \n",
    "    \n",
    "    "
   ]
  },
  {
   "cell_type": "code",
   "execution_count": 4,
   "id": "ce06b105-5334-4d67-a9de-c5debf5cc737",
   "metadata": {},
   "outputs": [
    {
     "data": {
      "text/plain": [
       "[1, 3, 5, 7, 9, 11, 13, 15, 17, 19, 21, 23, 25]"
      ]
     },
     "execution_count": 4,
     "metadata": {},
     "output_type": "execute_result"
    }
   ],
   "source": [
    "odd_numbers()"
   ]
  },
  {
   "cell_type": "markdown",
   "id": "d768ab2e-88b4-43b3-a1dd-6c72edbb4923",
   "metadata": {},
   "source": [
    "                      -------------------------------------------------------------------"
   ]
  },
  {
   "cell_type": "markdown",
   "id": "491180f2-5135-481c-9aa5-c7f7f6e92a5f",
   "metadata": {},
   "source": [
    "Q2. Why *args and **kwargs is used in some functions? Create a function each for *args and **kwargs\n",
    "to demonstrate their use."
   ]
  },
  {
   "cell_type": "markdown",
   "id": "460b3046-3361-431d-a124-2f0633cce234",
   "metadata": {},
   "source": [
    "#Answer\n",
    "\n",
    "The *args and **kwargs syntax  allows a function to accept a variable number of arguments.\n",
    "\n",
    "The *args parameter allows a function to accept any number of positional arguments. It collects these arguments into a tuple within the function. The name args is arbitrary and can be replaced with any valid variable name, but the asterisk (*) is necessary to indicate that it should collect multiple positional arguments.\n",
    "\n"
   ]
  },
  {
   "cell_type": "code",
   "execution_count": 3,
   "id": "61671b1c-4b2e-4b20-94a1-9c9f84a43011",
   "metadata": {},
   "outputs": [],
   "source": [
    "def calculate_sum(*args):\n",
    "    total = 0\n",
    "    for arg in args:\n",
    "        total+=arg\n",
    "    return total"
   ]
  },
  {
   "cell_type": "code",
   "execution_count": 4,
   "id": "140b2cea-bbee-4059-9f2d-cf478b4ee990",
   "metadata": {},
   "outputs": [
    {
     "name": "stdout",
     "output_type": "stream",
     "text": [
      "15\n"
     ]
    }
   ],
   "source": [
    "result = calculate_sum(1,2,3,4,5)\n",
    "print(result)"
   ]
  },
  {
   "cell_type": "markdown",
   "id": "30117cb6-2224-40cf-bff5-e96b73e38998",
   "metadata": {},
   "source": [
    "The **kwargs parameter allows a function to accept any number of keyword arguments as a dictionary. The name kwargs is again arbitrary and can be replaced with any valid variable name, but the double asterisks ('**') are necessary to indicate that it should collect multiple keyword arguments."
   ]
  },
  {
   "cell_type": "code",
   "execution_count": 5,
   "id": "e8f900b3-36ce-4c83-8dd2-87f7599026ba",
   "metadata": {},
   "outputs": [],
   "source": [
    "def print_details(**kwargs):\n",
    "    for k, v in kwargs.items():\n",
    "        print(f'{k}:{v}')"
   ]
  },
  {
   "cell_type": "code",
   "execution_count": 7,
   "id": "7c54b38d-cf6e-41fb-a329-f8537327f424",
   "metadata": {},
   "outputs": [
    {
     "name": "stdout",
     "output_type": "stream",
     "text": [
      "name:jhon\n",
      "email:jhon@gmail.com\n",
      "phonenumber:123456789\n"
     ]
    }
   ],
   "source": [
    "print_details(name=\"jhon\", email= \"jhon@gmail.com\",phonenumber=123456789)"
   ]
  },
  {
   "cell_type": "markdown",
   "id": "61e7fe27-1fe2-442b-9990-ddf2b4958328",
   "metadata": {},
   "source": [
    "                      -------------------------------------------------------------------"
   ]
  },
  {
   "cell_type": "code",
   "execution_count": null,
   "id": "64a3f66e-c445-4b82-bc84-269f18456e46",
   "metadata": {},
   "outputs": [],
   "source": [
    "Q3. What is an iterator in python? Name the method used to initialise the iterator object and the method\n",
    "used for iteration. Use these methods to print the first five elements of the given list [2, 4, 6, 8, 10, 12, 14,\n",
    "16, 18, 20]."
   ]
  },
  {
   "cell_type": "markdown",
   "id": "b0872d1e-a03a-4162-bffa-ef22a5e156dc",
   "metadata": {},
   "source": [
    "#Answer\n",
    "An iterator is an object that represents a stream of data. It provides a way to access the elements of a container or a sequence one at a time without needing to know the underlying implementation details. Iterators allow you to iterate over elements efficiently, especially for large or dynamically generated datasets.\n",
    "\n",
    "To initialize an iterator object, we can use the iter() function, which takes an iterable as an argument and returns an iterator object. The iterator object maintains the state of the iteration and provides a way to fetch the next element.\n",
    "\n",
    "To iterate over the elements of an iterator, you can use the next() function. It retrieves the next element from the iterator. By repeatedly calling next() on the iterator, you can access all the elements in the sequence.\n"
   ]
  },
  {
   "cell_type": "code",
   "execution_count": 9,
   "id": "0e808117-37df-4cec-af66-96d6241e6f5b",
   "metadata": {},
   "outputs": [],
   "source": [
    "list = [2, 4, 6, 8, 10, 12, 14, 16, 18, 20]"
   ]
  },
  {
   "cell_type": "code",
   "execution_count": 10,
   "id": "659624ce-e5e7-474a-a41f-df48edc63e43",
   "metadata": {},
   "outputs": [
    {
     "name": "stdout",
     "output_type": "stream",
     "text": [
      "2\n",
      "4\n",
      "6\n",
      "8\n",
      "10\n"
     ]
    }
   ],
   "source": [
    "my_iterator = iter(list) \n",
    "for _ in range(5):\n",
    "    print(next(my_iterator))"
   ]
  },
  {
   "cell_type": "markdown",
   "id": "ab68aa9b-06e7-48ba-9454-ab662e3c7fc2",
   "metadata": {},
   "source": [
    "                      -------------------------------------------------------------------"
   ]
  },
  {
   "cell_type": "markdown",
   "id": "603d8454-0f91-4c58-9047-9330eaa2c9b0",
   "metadata": {},
   "source": [
    "Q4. What is a generator function in python? Why yield keyword is used? Give an example of a generator\n",
    "function."
   ]
  },
  {
   "cell_type": "markdown",
   "id": "2eaea4d9-f0e6-4c87-aef7-5ae6a1d266f3",
   "metadata": {},
   "source": [
    "#Answer\n",
    "\n",
    "A generator function is a special type of function that generates a sequence of values on-the-fly instead of returning a single value. It allows you to create iterators in a more concise and memory-efficient manner.\n",
    "\n",
    "Generator functions are defined using the def keyword, just like regular functions. However, instead of using the return keyword to return a value, generator functions use the yield keyword. The yield keyword allows the function to produce a value and temporarily pause its execution. When the generator function is called again, it resumes execution from where it left off and produces the next value in the sequence."
   ]
  },
  {
   "cell_type": "code",
   "execution_count": 25,
   "id": "8b6c2e79-b087-4a36-9787-88fe28c8aca2",
   "metadata": {},
   "outputs": [],
   "source": [
    "def even_number_generator(n):\n",
    "    for i in range (n):\n",
    "        if i%2==0:\n",
    "            yield i  "
   ]
  },
  {
   "cell_type": "code",
   "execution_count": 26,
   "id": "4abc7579-b3f1-4553-a958-c76416b74e6f",
   "metadata": {},
   "outputs": [
    {
     "name": "stdout",
     "output_type": "stream",
     "text": [
      "[0, 2, 4, 6, 8, 10, 12, 14, 16, 18]\n"
     ]
    }
   ],
   "source": [
    "even_number = even_number_generator(20)\n",
    "print(list(even_number))\n"
   ]
  },
  {
   "cell_type": "markdown",
   "id": "cefbaf43-6ff9-49ad-b189-2a56c6f188e8",
   "metadata": {},
   "source": [
    "                      -------------------------------------------------------------------"
   ]
  },
  {
   "cell_type": "code",
   "execution_count": 19,
   "id": "6e77d1d5-fa63-4f45-af0d-25971bbfe890",
   "metadata": {},
   "outputs": [],
   "source": [
    "Q5. Create a generator function for prime numbers less than 1000. Use the next() method to print the\n",
    "first 20 prime numbers."
   ]
  },
  {
   "cell_type": "code",
   "execution_count": 12,
   "id": "c67726a7-8ae8-46db-b04c-93fda859241d",
   "metadata": {},
   "outputs": [],
   "source": [
    "#Answer\n",
    "\n",
    "def prime_number_generator():\n",
    "    num = 2\n",
    "    while True:\n",
    "        if is_prime(num):\n",
    "            yield num\n",
    "        num= num+1\n",
    "            \n",
    "            \n",
    "def is_prime(n):\n",
    "    if n<2:\n",
    "         return False\n",
    "    for i in range(2,int(n**0.5)+1):\n",
    "        if n%i==0:\n",
    "            return False\n",
    "    return True  \n",
    "            "
   ]
  },
  {
   "cell_type": "code",
   "execution_count": 13,
   "id": "ebfa0f18-9bb3-4da5-baaa-51a52d143dbb",
   "metadata": {},
   "outputs": [
    {
     "name": "stdout",
     "output_type": "stream",
     "text": [
      "2\n",
      "3\n",
      "5\n",
      "7\n",
      "11\n",
      "13\n",
      "17\n",
      "19\n",
      "23\n",
      "29\n",
      "31\n",
      "37\n",
      "41\n",
      "43\n",
      "47\n",
      "53\n",
      "59\n",
      "61\n",
      "67\n",
      "71\n"
     ]
    }
   ],
   "source": [
    "generator =  prime_number_generator()\n",
    "for _ in range(20):\n",
    "    prime_number = next(generator)\n",
    "    print(prime_number)"
   ]
  },
  {
   "cell_type": "markdown",
   "id": "4bd56842-96dd-463e-9a53-abe5f7acc2c6",
   "metadata": {},
   "source": [
    "                       -------------------------------------------------------------------"
   ]
  },
  {
   "cell_type": "markdown",
   "id": "e5cfcd8a-e250-42a7-8424-c3a5f8fe7a69",
   "metadata": {},
   "source": [
    "Q6. Write a python program to print the first 10 Fibonacci numbers using a while loop."
   ]
  },
  {
   "cell_type": "code",
   "execution_count": 13,
   "id": "641e9c9d-23f8-40d5-94fa-b75e80d973bb",
   "metadata": {},
   "outputs": [],
   "source": [
    "# Answer\n",
    "\n",
    "def fib_num(n):\n",
    "    a,b = 0,1\n",
    "    fib_numbers= []\n",
    "    count = 0\n",
    "    \n",
    "    \n",
    "    while count < n :\n",
    "        fib_numbers.append(a)\n",
    "        a, b = b, a+b\n",
    "        count+=1\n",
    "        \n",
    "    return fib_numbers    \n",
    "    \n",
    "     "
   ]
  },
  {
   "cell_type": "code",
   "execution_count": 14,
   "id": "0c0e629e-91c9-45fe-8094-efe7ad77603d",
   "metadata": {},
   "outputs": [
    {
     "name": "stdout",
     "output_type": "stream",
     "text": [
      "[0, 1, 1, 2, 3, 5, 8, 13, 21, 34]\n"
     ]
    }
   ],
   "source": [
    "fibonacci_number = fib_num(10)\n",
    "print(fibonacci_number)"
   ]
  },
  {
   "cell_type": "markdown",
   "id": "1b20d630-7004-473d-8739-91997bdbac43",
   "metadata": {},
   "source": [
    "                       -------------------------------------------------------------------"
   ]
  },
  {
   "cell_type": "code",
   "execution_count": null,
   "id": "3c640f49-9e79-4433-8291-d07d8908b340",
   "metadata": {},
   "outputs": [],
   "source": [
    "Q7. Write a List Comprehension to iterate through the given string: ‘pwskills’.\n",
    "Expected output: ['p', 'w', 's', 'k', 'i', 'l', 'l', 's']"
   ]
  },
  {
   "cell_type": "code",
   "execution_count": 10,
   "id": "e56c2925-c023-4f09-be5d-2b3737280d6d",
   "metadata": {},
   "outputs": [
    {
     "name": "stdout",
     "output_type": "stream",
     "text": [
      "['p', 'w', 's', 'k', 'i', 'l', 'l', 's']\n"
     ]
    }
   ],
   "source": [
    "#Answer\n",
    "string = 'pwskills'\n",
    "list_comprehention = [char for char in string if char in \"pwskills\"]\n",
    "print(list_comprehention)\n",
    "  \n",
    "\n",
    "\n"
   ]
  },
  {
   "cell_type": "markdown",
   "id": "9e263ef8-ce63-4ce1-913b-11da89fa1d03",
   "metadata": {},
   "source": [
    "                       -------------------------------------------------------------------"
   ]
  },
  {
   "cell_type": "markdown",
   "id": "a8309203-05c3-4a04-ae81-be7839db1290",
   "metadata": {},
   "source": [
    "Q8. Write a python program to check whether a given number is Palindrome or not using a while loop."
   ]
  },
  {
   "cell_type": "code",
   "execution_count": 5,
   "id": "0aaa0794-d4c5-411e-bf82-c79c0fceb991",
   "metadata": {},
   "outputs": [
    {
     "name": "stdin",
     "output_type": "stream",
     "text": [
      "Enter a number: 12344321\n"
     ]
    },
    {
     "name": "stdout",
     "output_type": "stream",
     "text": [
      "12344321 is a palindrome number\n"
     ]
    }
   ],
   "source": [
    "# Answer\n",
    "num = int(input(\"Enter a number:\"))\n",
    "original_num = num\n",
    "reverse = 0\n",
    "\n",
    "while num>0:\n",
    "    last_digit = num%10\n",
    "    reverse = (reverse*10)+last_digit\n",
    "    num = num//10\n",
    "    \n",
    "    \n",
    "if original_num == reverse:\n",
    "    print( original_num, \"is a palindrome number\")\n",
    "    \n",
    "else:\n",
    "    print(original_num ,\"is not a palindrome number\")\n",
    "\n",
    "    \n",
    "    \n"
   ]
  },
  {
   "cell_type": "code",
   "execution_count": null,
   "id": "5e1fd857-3447-487c-9fa4-7dcee9471fc0",
   "metadata": {},
   "outputs": [],
   "source": []
  },
  {
   "cell_type": "markdown",
   "id": "de5ab68d-c636-4717-9e26-b8f554ed9aef",
   "metadata": {},
   "source": [
    "                       -------------------------------------------------------------------"
   ]
  },
  {
   "cell_type": "code",
   "execution_count": null,
   "id": "da18056e-dfe5-4a49-88c9-53707eb736a5",
   "metadata": {},
   "outputs": [],
   "source": [
    "Q9. Write a code to print odd numbers from 1 to 100 using list comprehension.\n",
    "Note: Use a list comprehension to create a list from 1 to 100 and use another List comprehension to filter\n",
    "out odd numbers."
   ]
  },
  {
   "cell_type": "code",
   "execution_count": 13,
   "id": "a82d3c0e-3480-4ebb-a580-7435696081a2",
   "metadata": {},
   "outputs": [
    {
     "name": "stdout",
     "output_type": "stream",
     "text": [
      "[1, 3, 5, 7, 9, 11, 13, 15, 17, 19, 21, 23, 25, 27, 29, 31, 33, 35, 37, 39, 41, 43, 45, 47, 49, 51, 53, 55, 57, 59, 61, 63, 65, 67, 69, 71, 73, 75, 77, 79, 81, 83, 85, 87, 89, 91, 93, 95, 97, 99]\n"
     ]
    }
   ],
   "source": [
    "#Answer\n",
    "odd_numbers= [ num for num in range(1,101) if num%2 !=0]\n",
    "print(odd_numbers)"
   ]
  },
  {
   "cell_type": "code",
   "execution_count": null,
   "id": "d319427f-1958-476a-bf37-ead0864e6862",
   "metadata": {},
   "outputs": [],
   "source": []
  }
 ],
 "metadata": {
  "kernelspec": {
   "display_name": "Python 3 (ipykernel)",
   "language": "python",
   "name": "python3"
  },
  "language_info": {
   "codemirror_mode": {
    "name": "ipython",
    "version": 3
   },
   "file_extension": ".py",
   "mimetype": "text/x-python",
   "name": "python",
   "nbconvert_exporter": "python",
   "pygments_lexer": "ipython3",
   "version": "3.10.8"
  }
 },
 "nbformat": 4,
 "nbformat_minor": 5
}
